{
 "cells": [
  {
   "cell_type": "code",
   "execution_count": 1,
   "id": "b878bd6f-2c50-467e-8f62-7729b0756e90",
   "metadata": {
    "tags": []
   },
   "outputs": [],
   "source": [
    "import requests\n",
    "from bs4 import BeautifulSoup\n",
    "import os\n",
    "import gzip\n",
    "import shutil"
   ]
  },
  {
   "cell_type": "code",
   "execution_count": 4,
   "id": "5d2e29c9-6b31-41ca-adf3-839d93eed387",
   "metadata": {
    "tags": []
   },
   "outputs": [
    {
     "name": "stdout",
     "output_type": "stream",
     "text": [
      "Deleted the file named 'datasets' to create the directory.\n"
     ]
    }
   ],
   "source": [
    "import os\n",
    "\n",
    "if os.path.isfile('datasets'):\n",
    "    os.remove('datasets')  \n",
    "    print(\"Deleted the file named 'datasets' to create the directory.\")\n",
    "\n",
    "os.makedirs('datasets', exist_ok=True)"
   ]
  },
  {
   "cell_type": "code",
   "execution_count": 5,
   "id": "9199059b-0b67-4a31-b525-e8d0f67c8693",
   "metadata": {
    "tags": []
   },
   "outputs": [
    {
     "name": "stdout",
     "output_type": "stream",
     "text": [
      "Downloading https://mcauleylab.ucsd.edu/public_datasets/data/amazon_2023/raw/review_categories/Movies_and_TV.jsonl.gz -> datasets/Movies_and_TV.jsonl.gz\n",
      "Downloading https://mcauleylab.ucsd.edu/public_datasets/data/amazon_2023/raw/review_categories/Video_Games.jsonl.gz -> datasets/Video_Games.jsonl.gz\n",
      "All selected datasets downloaded.\n"
     ]
    }
   ],
   "source": [
    "# Download datasets\n",
    "target_datasets = [\n",
    "    \"Baby_Products\"\n",
    "    \"Grocery_and_Gourmet_Food\",\n",
    "    \"Movies_and_TV\",\n",
    "    \"Video_Games\"]\n",
    "\n",
    "url = \"https://amazon-reviews-2023.github.io/\"\n",
    "response = requests.get(url)\n",
    "response.raise_for_status()\n",
    "\n",
    "soup = BeautifulSoup(response.text, 'html.parser')\n",
    "links = soup.find_all('a')\n",
    "\n",
    "only_review = True\n",
    "file_links = []\n",
    "for link in links:\n",
    "    href = link.get('href')\n",
    "    if href:\n",
    "        for target in target_datasets:\n",
    "            if target in href:\n",
    "                if only_review and 'review' not in href:\n",
    "                    continue  \n",
    "                file_links.append(href)\n",
    "                break\n",
    "\n",
    "if not file_links:\n",
    "    print(\"No matching files found.\")\n",
    "else:\n",
    "    os.makedirs('datasets', exist_ok=True)\n",
    "\n",
    "    for file_link in file_links:\n",
    "        file_url = file_link if file_link.startswith('http') else url + file_link\n",
    "        filename = os.path.join('datasets', os.path.basename(file_link))\n",
    "        \n",
    "        print(f\"Downloading {file_url} -> {filename}\")\n",
    "        file_response = requests.get(file_url)\n",
    "        file_response.raise_for_status()\n",
    "        \n",
    "        with open(filename, 'wb') as f:\n",
    "            f.write(file_response.content)\n",
    "    \n",
    "    print(\"All selected datasets downloaded.\")"
   ]
  },
  {
   "cell_type": "code",
   "execution_count": 6,
   "id": "f4019f2b-4f67-4f28-b6b2-6ddfef417084",
   "metadata": {
    "tags": []
   },
   "outputs": [
    {
     "name": "stdout",
     "output_type": "stream",
     "text": [
      "Unzipping datasets/Video_Games.jsonl.gz -> datasets/Video_Games.jsonl\n",
      "Unzipping datasets/Movies_and_TV.jsonl.gz -> datasets/Movies_and_TV.jsonl\n",
      "All files unzipped.\n"
     ]
    }
   ],
   "source": [
    "# Unzip jsonl.gz\n",
    "\n",
    "input_folder = 'datasets'\n",
    "for filename in os.listdir(input_folder):\n",
    "    if filename.endswith('.jsonl.gz'):\n",
    "        input_path = os.path.join(input_folder, filename)\n",
    "        output_path = os.path.join(input_folder, filename[:-3])  \n",
    "        \n",
    "        print(f\"Unzipping {input_path} -> {output_path}\")\n",
    "        with gzip.open(input_path, 'rb') as f_in:\n",
    "            with open(output_path, 'wb') as f_out:\n",
    "                shutil.copyfileobj(f_in, f_out)\n",
    "\n",
    "print(\"All files unzipped.\")\n"
   ]
  },
  {
   "cell_type": "code",
   "execution_count": null,
   "id": "50c20037-29a4-4eea-9fdc-6e8ce07cee17",
   "metadata": {},
   "outputs": [],
   "source": []
  }
 ],
 "metadata": {
  "kernelspec": {
   "display_name": "Python 3 (ipykernel)",
   "language": "python",
   "name": "python3"
  },
  "language_info": {
   "codemirror_mode": {
    "name": "ipython",
    "version": 3
   },
   "file_extension": ".py",
   "mimetype": "text/x-python",
   "name": "python",
   "nbconvert_exporter": "python",
   "pygments_lexer": "ipython3",
   "version": "3.11.5"
  }
 },
 "nbformat": 4,
 "nbformat_minor": 5
}
